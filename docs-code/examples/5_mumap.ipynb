{
  "cells": [
    {
      "cell_type": "markdown",
      "metadata": {},
      "source": [
        "## m-umap Embeddings\n",
        "\n",
        "[Open in Colab](https://colab.research.google.com/github/mikarubi/abct/blob/main/docs-code/examples/5_mumap.ipynb){.btn .btn-dark .btn-sm}\n",
        "\n",
        "UMAP is a prominent manifold-learning method especially popular in the analysis and visualization of single-cell, population-genetic, and other biological data. Here, we consider the performance of the first-order approximation of (the true parametric) UMAP objective on our example brain-imaging data. We term this approximation m-umap, and note that it reduces to a generalized modularity. \n",
        "\n",
        "### Set up and load data"
      ]
    },
    {
      "cell_type": "code",
      "metadata": {},
      "source": [
        "# Install abct and download abct_utils.py\n",
        "base = \"https://github.com/mikarubi/abct/raw/refs/heads/main\"\n",
        "!wget --no-clobber {base}/docs-code/examples/abct_utils.py\n",
        "%pip install --quiet abct nilearn\n",
        "\n",
        "# Import modules\n",
        "import abct\n",
        "import numpy as np\n",
        "from abct_utils import C, ordc, fig_scatter3, fig_scatter, fig_surf, fig_imshow"
      ],
      "execution_count": null,
      "outputs": []
    },
    {
      "cell_type": "markdown",
      "metadata": {},
      "source": [
        "### Visualize nearest-neighbor networks\n",
        "\n",
        "UMAP and m-umap ultimately seek to approximate symmetric 𝜅-nearest-neighbor representations. We first visualize the structure of nearest-neighbor correlation networks in our example data."
      ]
    },
    {
      "cell_type": "code",
      "metadata": {},
      "source": [
        "# Correlation nearest-neighbor network\n",
        "Cn = abct.kneighbor(C, \"nearest\", 50).toarray()\n",
        "\n",
        "fig_imshow(Cn[np.ix_(ordc, ordc)],\n",
        "           \"Correlation nearest-neighbor network\",\n",
        "           \"viridis\").show()"
      ],
      "execution_count": null,
      "outputs": []
    },
    {
      "cell_type": "markdown",
      "metadata": {},
      "source": [
        "### Get m-umap embeddings\n",
        "\n",
        "Simple use of m-umap can lead to runaway solutions. Here, we check this outcome by embedding m-umap solutions on (_k_-dimensional) spheres. These embeddings have an additional nice property of reducing m-umap with binary constraints to the standard modularity.\n",
        "\n",
        "We developed a simple algorithm to optimize m-umap. First, we optimized the binary m-umap via modularity maximization of the symmetric 𝜅-nearest-neighbor network. Next, we used the resulting module-indicator matrix to initialize the continuous embedding. Finally, we optimized the continuous embedding directly on the sphere. We now use this algorithm to detect m-umap embeddings."
      ]
    },
    {
      "cell_type": "code",
      "metadata": {},
      "source": [
        "np.random.seed(1)\n",
        "U3, M, _ = abct.mumap(C, kappa=50, learnrate=0.01, verbose=False)"
      ],
      "execution_count": null,
      "outputs": []
    },
    {
      "cell_type": "markdown",
      "metadata": {},
      "source": [
        "### Visualize m-umap embeddings on a sphere\n",
        "\n",
        "We now show the three-dimensional m-umap embeddings. Each point represents a node, and colors represent module affiliations (aka binary m-umap embeddings). We also use a Mercator (classic-map) projection to project these embeddings onto a plane."
      ]
    },
    {
      "cell_type": "code",
      "metadata": {},
      "source": [
        "X3, Y3, Z3 = zip(*U3)\n",
        "fig = fig_scatter3(X3, Y3, Z3, f\"m-umap embedding on a sphere\")\n",
        "fig.update_traces(marker=dict(color=M+1), marker_showscale=True)\n",
        "fig.show()\n",
        "\n",
        "U2 = abct.muma.projection(U3)\n",
        "X2, Y2 = zip(*U2)\n",
        "fig = fig_scatter(X2, Y2, \"\", \"\", f\"m-umap projection on a plane\")\n",
        "fig.update_traces(marker=dict(color=M+1), marker_showscale=True)\n",
        "fig.show()"
      ],
      "execution_count": null,
      "outputs": []
    },
    {
      "cell_type": "markdown",
      "metadata": {},
      "source": [
        "### Show maps of individual modules\n",
        "\n",
        "Finally, we show the maps of the individual binary m-umap embeddings."
      ]
    },
    {
      "cell_type": "code",
      "metadata": {},
      "source": [
        "for i in range(M.max()+1):\n",
        "    fig_surf(1.0 * (M == i), f\"Module {i+1}\", \"viridis\")"
      ],
      "execution_count": null,
      "outputs": []
    }
  ],
  "metadata": {
    "kernelspec": {
      "display_name": "Python 3",
      "language": "python",
      "name": "python3"
    }
  },
  "nbformat": 4,
  "nbformat_minor": 4
}