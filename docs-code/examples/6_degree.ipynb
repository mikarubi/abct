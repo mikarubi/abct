{
  "cells": [
    {
      "cell_type": "markdown",
      "metadata": {},
      "source": [
        "## Degree Centralities\n",
        "\n",
        "[Open in Colab](https://colab.research.google.com/github/mikarubi/abct/blob/main/docs-code/examples/6_degree.ipynb){.btn .btn-dark .btn-sm}\n",
        "\n",
        "Degree is a basic measure of node centrality, defined as the sum of node connection weights. Here, we show the equivalence of the degree and its extension, the second degree, with five measures of communication, control, and diversity. Since many of these measures assume that activity propagates on physical networks, we primarily study them on structural networks in our example brain-imaging data.\n",
        "\n",
        "### Set up and load data"
      ]
    },
    {
      "cell_type": "code",
      "metadata": {},
      "source": [
        "# Install abct and download abct_utils.py\n",
        "base = \"https://github.com/mikarubi/abct/raw/refs/heads/main\"\n",
        "!wget --no-clobber {base}/docs-code/examples/abct_utils.py\n",
        "%pip install --quiet abct nilearn nctpy bctpy\n",
        "\n",
        "# Import modules\n",
        "import abct\n",
        "import numpy as np\n",
        "from scipy import sparse\n",
        "from nctpy import utils, metrics\n",
        "from bct import mean_first_passage_time\n",
        "from abct_utils import W, fig_scatter, fig_surf"
      ],
      "execution_count": null,
      "outputs": []
    },
    {
      "cell_type": "markdown",
      "metadata": {},
      "source": [
        "### Relationship between degree and measures of diffusion\n",
        "\n",
        "We first consider the weighted degree (or strength), defined for each node as the sum of its connection weights. We compute and visualize the map of the degree."
      ]
    },
    {
      "cell_type": "code",
      "metadata": {},
      "source": [
        "Degree = abct.degree(W, \"first\")\n",
        "fig_surf(Degree, \"Degree\", \"inferno\").show()"
      ],
      "execution_count": null,
      "outputs": []
    },
    {
      "cell_type": "markdown",
      "metadata": {},
      "source": [
        "In many cases of interest, the degree is approximately equivalent to eigenvector centrality and diffusion efficiency, two popular measures of nodal centrality based on the assumption of diffusion dynamics or random walks."
      ]
    },
    {
      "cell_type": "code",
      "metadata": {},
      "source": [
        "Eigenvector_centrality = sparse.linalg.eigs(W, k=1)[1].real.ravel()\n",
        "Eigenvector_centrality *= np.sign(np.sum(Eigenvector_centrality * Degree))\n",
        "\n",
        "Diffusion_efficiency = 1/mean_first_passage_time(W).mean(0)\n",
        "\n",
        "r = np.corrcoef(Degree, Eigenvector_centrality)[0, 1]\n",
        "fig = fig_scatter(Degree, Eigenvector_centrality, \n",
        "                 \"Degree\", \n",
        "                 \"Eigenvector centrality\", \n",
        "                f\"Structural network (r = {r:.3f})\").show()\n",
        "\n",
        "r = np.corrcoef(Degree, Diffusion_efficiency)[0, 1]\n",
        "fig = fig_scatter(Degree, Diffusion_efficiency, \n",
        "                 \"Degree\", \n",
        "                 \"Diffusion efficiency\", \n",
        "                f\"Structural network (r = {r:.3f})\").show()"
      ],
      "execution_count": null,
      "outputs": []
    },
    {
      "cell_type": "markdown",
      "metadata": {},
      "source": [
        "### Relationship between second degree and measures of communication and control\n",
        "\n",
        "We next consider the second degree, defined for each node as the sum of its squared connection weights. We compute and visualize the map of the second degree."
      ]
    },
    {
      "cell_type": "code",
      "metadata": {},
      "source": [
        "Second_degree = abct.degree(W, \"second\")\n",
        "fig_surf(Second_degree,\n",
        "        \"Second degree\",\n",
        "        \"inferno\").show()"
      ],
      "execution_count": null,
      "outputs": []
    },
    {
      "cell_type": "markdown",
      "metadata": {},
      "source": [
        "The second degree is exactly or approximately equivalent to communicability centrality, average controllability, and modal controllability, three popular measures of communication and control. These measures are also based on the assumption of diffusion dynamics and consider the number and length of all possible walks between two pairs of nodes."
      ]
    },
    {
      "cell_type": "code",
      "metadata": {},
      "source": [
        "# Normalize for communicability analysis\n",
        "W_nrm1 = W / sparse.linalg.eigs(W, k=1)[0].real\n",
        "Communicability = np.diag(sparse.linalg.expm(W_nrm1))\n",
        "\n",
        "# Normalize for controllability analysis\n",
        "W_nrm2 = utils.matrix_normalization(W_nrm1, \"discrete\")\n",
        "Ave_control = metrics.ave_control(W_nrm2, \"discrete\")\n",
        "Mod_control = metrics.modal_control(W_nrm2)\n",
        "\n",
        "r = np.corrcoef(Second_degree, Communicability)[0, 1]\n",
        "fig = fig_scatter(Second_degree, Communicability, \n",
        "                 \"Second degree\", \n",
        "                 \"Communicability\", \n",
        "                f\"Structural network (r = {r:.3f})\").show()\n",
        "\n",
        "r = np.corrcoef(Second_degree, Ave_control)[0, 1]\n",
        "fig = fig_scatter(Second_degree, Ave_control, \n",
        "                 \"Second degree\", \n",
        "                 \"Average controllability\", \n",
        "                f\"Structural network (r = {r:.3f})\").show()\n",
        "\n",
        "r = np.corrcoef(Second_degree, Mod_control)[0, 1]\n",
        "fig = fig_scatter(Second_degree, Mod_control, \n",
        "                 \"Second degree\", \n",
        "                 \"Modal controllability\", \n",
        "                f\"Structural network (r = {r:.3f})\").show()"
      ],
      "execution_count": null,
      "outputs": []
    }
  ],
  "metadata": {
    "kernelspec": {
      "display_name": "Python 3",
      "language": "python",
      "name": "python3"
    }
  },
  "nbformat": 4,
  "nbformat_minor": 4
}