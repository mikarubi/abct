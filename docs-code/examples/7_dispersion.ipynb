{
  "cells": [
    {
      "cell_type": "markdown",
      "metadata": {},
      "source": [
        "## Dispersion Centralities\n",
        "\n",
        "[Open in Colab](https://colab.research.google.com/github/mikarubi/abct/blob/main/docs-code/examples/7_dispersion.ipynb){.btn .btn-dark .btn-sm}\n",
        "\n",
        "The squared coefficient of variation is a basic measure of normalized dispersion. It is defined as the ratio of the variance over the squared mean, or equivalently, the ratio of the first and second degrees. \n",
        "\n",
        "Here, we show that in networks with relatively homogeneous connections within modules, the squared coefficient of variation is equivalent to a variant of the participation coefficient, a popular module-based measure of connectional diversity. It is specifically equivalent to the _k_-participation coefficient, the participation coefficient normalized by module size. We show these equivalences in structural and correlation co-neighbor networks from our example brain-imaging data, because these networks have high connectional homogeneity by construction. \n",
        "\n",
        "### Set up and load data"
      ]
    },
    {
      "cell_type": "code",
      "metadata": {},
      "source": [
        "# Install abct and download abct_utils.py\n",
        "base = \"https://github.com/mikarubi/abct/raw/refs/heads/main\"\n",
        "!wget --no-clobber {base}/docs-code/examples/abct_utils.py\n",
        "%pip install --quiet abct nilearn\n",
        "\n",
        "# Import modules\n",
        "import abct\n",
        "import numpy as np\n",
        "from abct_utils import W, C, ordw, ordc, fig_scatter, fig_surf, fig_imshow"
      ],
      "execution_count": null,
      "outputs": []
    },
    {
      "cell_type": "markdown",
      "metadata": {},
      "source": [
        "### Compute and visualize co-neighbor matrices\n",
        "\n",
        "We first compute and visualize the co-neighbor matrices."
      ]
    },
    {
      "cell_type": "code",
      "metadata": {},
      "source": [
        "# Get co-neighbor matrices\n",
        "Wn = abct.kneighbor(W, \"common\", kappa=0.1).toarray()\n",
        "Cn = abct.kneighbor(C, \"common\", kappa=0.1).toarray()\n",
        "\n",
        "# Visualize co-neighbor matrices\n",
        "fig_imshow(Wn[np.ix_(ordw, ordw)],\n",
        "          \"Structural co-neighbor network\",\n",
        "          \"inferno\").show()\n",
        "\n",
        "fig_imshow(Cn[np.ix_(ordc, ordc)],\n",
        "          \"Correlation co-neighbor network\",\n",
        "          \"viridis\").show()"
      ],
      "execution_count": null,
      "outputs": []
    },
    {
      "cell_type": "markdown",
      "metadata": {},
      "source": [
        "### Compute squared coefficient of variation and _k_-participation coefficient\n",
        "\n",
        "We now compute the squared coefficient of variation and the _k_-participation coefficient for these co-neighbor networks. Note that the _k_-participation coefficient is defined for a specific module partition, and we therefore compute it for a range of partitions."
      ]
    },
    {
      "cell_type": "code",
      "metadata": {},
      "source": [
        "# Get squared coefficient of variation\n",
        "WV = abct.dispersion(Wn, \"coefvar2\")\n",
        "CV = abct.dispersion(Cn, \"coefvar2\")\n",
        "\n",
        "# Get participation coefficients\n",
        "K = np.arange(5, 30, 5)    # number of clusters\n",
        "repl = 10                  # number of replicates\n",
        "\n",
        "# Set random seed\n",
        "np.random.seed(1)\n",
        "\n",
        "### Run Loyvain k-modularity\n",
        "WP = [None] * len(K)\n",
        "CP = [None] * len(K)\n",
        "for i, k in enumerate(K):\n",
        "    print(f\"Number of clusters: {k}\")\n",
        "    Mw = abct.loyvain(Wn, k, \"kmodularity\", replicates=repl)[0]\n",
        "    Mc = abct.loyvain(Cn, k, \"kmodularity\", replicates=repl)[0]\n",
        "    WP[i] = abct.dispersion(Wn, \"kpartcoef\", Mw)\n",
        "    CP[i] = abct.dispersion(Cn, \"kpartcoef\", Mc)"
      ],
      "execution_count": null,
      "outputs": []
    },
    {
      "cell_type": "markdown",
      "metadata": {},
      "source": [
        "### Show maps of the squared coefficient of variation\n",
        "\n",
        "We next show the maps of the squared coefficient of variation, separately for the structural and correlation co-neighbor networks."
      ]
    },
    {
      "cell_type": "code",
      "metadata": {},
      "source": [
        "cv2s = {\"Structural - (Squared coefficient of variation)\": (- WV, \"inferno\"),\n",
        "        \"Correlation - (Squared coefficient of variation)\": (- CV, \"viridis\")}\n",
        "\n",
        "for i, (name, vals_cmap) in enumerate(cv2s.items()):\n",
        "    vals, cmap = vals_cmap\n",
        "    fig_surf(vals, name, cmap)"
      ],
      "execution_count": null,
      "outputs": []
    },
    {
      "cell_type": "markdown",
      "metadata": {},
      "source": [
        "### Scatter plots of squared coefficient of variation and _k_-participation coefficient\n",
        "\n",
        "Finally, we show the scatter plots of the squared coefficient of variation and the _k_-participation coefficient, separately for the structural and correlation co-neighbor networks. As expected, the squared coefficient of variation and the _k_-participation coefficient are strongly correlated, and this correlation increases with the number of modules, as the within-module connectivity becomes more homogeneous."
      ]
    },
    {
      "cell_type": "code",
      "metadata": {},
      "source": [
        "normalize = lambda x: (x - x.min()) / (x.max() - x.min())\n",
        "\n",
        "for i in range(len(K)):\n",
        "    if i == 0:\n",
        "        fig = fig_scatter(- np.log10(1 - WP[i]),\n",
        "                            normalize(- WV))\n",
        "    else:\n",
        "        fig.add_scatter(x = - np.log10(1 - WP[i]),\n",
        "                        y = normalize(- WV), \n",
        "                        mode=\"markers\")\n",
        "\n",
        "r = np.corrcoef(WV, np.array(WP))[0][1:]\n",
        "fig.update_layout(xaxis_title=\"log-rescaled k-participation coefficient\",\n",
        "                  yaxis_title=\"rescaled - (Squared coefficient of variation)\",\n",
        "                  title=f\"Structural network: r ~ {-np.mean(r):.3f}\",\n",
        "                  showlegend=False).show()\n",
        "\n",
        "for i in range(len(K)):\n",
        "    if i == 0:\n",
        "        fig = fig_scatter(- np.log10(1 - CP[i]), \n",
        "                            normalize(- CV))\n",
        "    else:\n",
        "        fig.add_scatter(x = - np.log10(1 - CP[i]), \n",
        "                              y = normalize(- CV), \n",
        "                              mode=\"markers\")\n",
        "\n",
        "r = np.corrcoef(CV, np.array(CP))[0][1:]\n",
        "fig.update_layout(xaxis_title=\"log-rescaled k-participation coefficient\",\n",
        "                  yaxis_title=\"rescaled - (Squared coefficient of variation)\",\n",
        "                  title=f\"Correlation network: r ~ {-np.mean(r):.3f}\",\n",
        "                  showlegend=False).show()"
      ],
      "execution_count": null,
      "outputs": []
    }
  ],
  "metadata": {
    "kernelspec": {
      "display_name": "Python 3",
      "language": "python",
      "name": "python3"
    }
  },
  "nbformat": 4,
  "nbformat_minor": 4
}