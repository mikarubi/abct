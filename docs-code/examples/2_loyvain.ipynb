{
  "cells": [
    {
      "cell_type": "markdown",
      "metadata": {},
      "source": [
        "## Loyvain Clustering\n",
        "\n",
        "[Open in Colab](https://colab.research.google.com/github/mikarubi/abct/blob/main/docs-code/examples/2_loyvain.ipynb){.btn .btn-dark .btn-sm}\n",
        "\n",
        "The Loyvain method is a fusion of Lloyd and Louvain methods, two classic algorithms for _k_-means clustering and modularity maximization, respectively. This method specifically interpolates between Lloyd and Louvain, and thus represents a unified algorithm for _k_-means clustering and modularity maximization.\n",
        "\n",
        "Here, we compare the Loyvain method against classic _k_-means and spectral clustering methods on our example brain-imaging correlation networks.\n",
        "\n",
        "### Set up and load data"
      ]
    },
    {
      "cell_type": "code",
      "metadata": {},
      "source": [
        "# Install abct and download abct_utils.py\n",
        "base = \"https://github.com/mikarubi/abct/raw/refs/heads/main\"\n",
        "!wget --no-clobber {base}/docs-code/examples/abct_utils.py\n",
        "%pip install --quiet abct nilearn\n",
        "\n",
        "# Import modules\n",
        "import abct\n",
        "import time\n",
        "import numpy as np\n",
        "from sklearn import cluster\n",
        "from abct_utils import X, C, fig_scatter, fig_surf\n",
        "\n",
        "# Get residual correlation networks\n",
        "Xg = abct.residualn(X.T, \"global\").T\n",
        "Xg = Xg / np.linalg.norm(Xg, axis=0, keepdims=True)\n",
        "Cg = Xg.T @ Xg"
      ],
      "execution_count": null,
      "outputs": []
    },
    {
      "cell_type": "markdown",
      "metadata": {},
      "source": [
        "### Set up data and clustering similarity functions\n",
        "\n",
        "We compare the performance of Loyvain across a range of cluster numbers. To do this, we first define the corresponding similarity or objective functions for each of these methods."
      ]
    },
    {
      "cell_type": "code",
      "metadata": {},
      "source": [
        "# Define clustering hyperparameters\n",
        "K = np.arange(5, 30, 5)     # number of clusters\n",
        "repl = 10                   # number of replicates\n",
        "\n",
        "def kmeans_similarity(X, M):\n",
        "    # distance = 0.0\n",
        "    similarity = 0.0\n",
        "    for u in range(k):\n",
        "        I = (M == u)                        # cluster indices\n",
        "        ni = I.sum()                        # cluster size\n",
        "        Xi = X[:, I]                        # cluster time series\n",
        "        xi = Xi.mean(1, keepdims=1)         # cluster centroid\n",
        "        # distance += ((Xi - xi) ** 2).sum()  # distance\n",
        "        similarity += (Xi.T @ Xi).sum() / ni\n",
        "\n",
        "    return similarity\n",
        "\n",
        "def spectral_similarity(C, M):\n",
        "    similarity = 0.0\n",
        "    for u in range(k):\n",
        "        I = (M == u)                        # cluster indices\n",
        "        similarity += C[np.ix_(I, I)].sum() / C[I].sum()\n",
        "\n",
        "    return similarity"
      ],
      "execution_count": null,
      "outputs": []
    },
    {
      "cell_type": "markdown",
      "metadata": {},
      "source": [
        "### Run standard k-means and spectral clustering\n",
        "\n",
        "We first run standard _k_-means and spectral clustering algorithms. Note that Loyvain maximizes the _k_-means objective on residual networks, and the spectral clustering objective (normalized cut) on the original networks. Accordingly, here we compare it to _k_-means clustering of time series after global signal regression, and spectral clustering of the original correlation networks."
      ]
    },
    {
      "cell_type": "code",
      "metadata": {},
      "source": [
        "np.random.seed(1)\n",
        "start_time = time.time()\n",
        "print(\"Running standard k-means and spectral clustering.\")\n",
        "\n",
        "kmeans_lloyd_similarity = np.zeros(len(K))\n",
        "spectral_shimalik_similarity = np.zeros(len(K))\n",
        "for i, k in enumerate(K):\n",
        "    print(f\"Number of clusters: {k}\")\n",
        "    M_kmeans_sklearn = cluster.KMeans(n_clusters=k, n_init=repl).fit(Xg.T).labels_\n",
        "    M_spectral_sklearn = cluster.SpectralClustering(\n",
        "        n_clusters=k, affinity='precomputed', n_init=repl).fit(C).labels_\n",
        "    kmeans_lloyd_similarity[i] = kmeans_similarity(Xg, M_kmeans_sklearn)\n",
        "    spectral_shimalik_similarity[i] = spectral_similarity(C, M_spectral_sklearn)\n",
        "\n",
        "print(f\"Time elapsed: {time.time() - start_time} seconds.\")"
      ],
      "execution_count": null,
      "outputs": []
    },
    {
      "cell_type": "markdown",
      "metadata": {},
      "source": [
        "### Run Loyvain k-means and spectral clustering\n",
        "\n",
        "We now use the Loyvain method for direct _k_-means clustering and spectral clustering of correlation networks."
      ]
    },
    {
      "cell_type": "code",
      "metadata": {},
      "source": [
        "np.random.seed(1)\n",
        "start_time = time.time()\n",
        "print(\"Running Loyvain k-means and spectral clustering.\")\n",
        "\n",
        "MKmod = [None] * len(K)\n",
        "kmeans_loyvain_similarity = np.zeros(len(K))\n",
        "spectral_loyvain_similarity = np.zeros(len(K))\n",
        "for i, k in enumerate(K):\n",
        "    print(f\"Number of clusters: {k}\")\n",
        "    M_kmodularity_loyvain = abct.loyvain(C, k, \"kmodularity\", replicates=repl)[0]\n",
        "    M_spectral_loyvain = abct.loyvain(C, k, \"spectral\", replicates=repl)[0]\n",
        "    kmeans_loyvain_similarity[i] = kmeans_similarity(Xg, M_kmodularity_loyvain)\n",
        "    spectral_loyvain_similarity[i] = spectral_similarity(C, M_spectral_loyvain)\n",
        "    MKmod[i] = M_kmodularity_loyvain\n",
        "\n",
        "print(f\"Time elapsed: {time.time() - start_time} seconds.\")"
      ],
      "execution_count": null,
      "outputs": []
    },
    {
      "cell_type": "markdown",
      "metadata": {},
      "source": [
        "## Visualize clustering results\n",
        "\n",
        "We now show the maps of _k_-modularity clusters detected with the Loyvain method."
      ]
    },
    {
      "cell_type": "code",
      "metadata": {},
      "source": [
        "for i, Mi in enumerate(MKmod):\n",
        "    fig_surf(Mi, f\"Loyvain on correlation network: {K[i]} modules\",\n",
        "             \"tab20b\", pmin=0, pmax=100)"
      ],
      "execution_count": null,
      "outputs": []
    },
    {
      "cell_type": "markdown",
      "metadata": {},
      "source": [
        "### Compare clustering similarities\n",
        "\n",
        "Finally, we directly compare the clustering similarities of the Loyvain method to standard _k_-means and spectral clustering algorithms."
      ]
    },
    {
      "cell_type": "code",
      "metadata": {},
      "source": [
        "# Scatter plots of k-means clustering similarities\n",
        "x, y = kmeans_lloyd_similarity, kmeans_loyvain_similarity\n",
        "fig = fig_scatter(x, y,\n",
        "                  \"Lloyd k-means\",\n",
        "                  \"Loyvain k-means\",\n",
        "                  \"K-means similarity\")\n",
        "fig.add_shape(type=\"line\",\n",
        "              x0=np.min([x, y]),\n",
        "              y0=np.min([x, y]),\n",
        "              x1=np.max([x, y]),\n",
        "              y1=np.max([x, y]))\n",
        "fig.show()\n",
        "\n",
        "# Scatter plots of spectral clustering similarities\n",
        "x, y = spectral_shimalik_similarity, spectral_loyvain_similarity\n",
        "fig = fig_scatter(x, y,\n",
        "                 \"Lloyd spectral\",\n",
        "                 \"Loyvain spectral\",\n",
        "                 \"Spectral similarity\")\n",
        "fig.add_shape(type=\"line\",\n",
        "              x0=np.min([x, y]),\n",
        "              y0=np.min([x, y]),\n",
        "              x1=np.max([x, y]),\n",
        "              y1=np.max([x, y]))\n",
        "fig.show()"
      ],
      "execution_count": null,
      "outputs": []
    }
  ],
  "metadata": {
    "kernelspec": {
      "display_name": "Python 3",
      "language": "python",
      "name": "python3"
    }
  },
  "nbformat": 4,
  "nbformat_minor": 4
}