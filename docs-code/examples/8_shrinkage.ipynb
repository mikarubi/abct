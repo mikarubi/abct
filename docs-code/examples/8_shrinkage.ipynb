{
  "cells": [
    {
      "cell_type": "markdown",
      "metadata": {},
      "source": [
        "## Network Shrinkage\n",
        "\n",
        "[Open in Colab](https://colab.research.google.com/github/mikarubi/abct/blob/main/docs-code/examples/8_shrinkage.ipynb){.btn .btn-dark .btn-sm}\n",
        "\n",
        "Popular models in network neuroscience model network growth as a function of spatial proximity and connectional similarity. These models typically start with a sparse “seed” network of connections, and then proceed to simulate growth by adding connections to this network in discrete time steps. Here, we show that the assumption of network growth in a variant of these models can be subsumed by a type of shrinkage, or the weakening of dominant structural patterns in the network. We illustrate this relationship in structural and proximity networks on our example brain-imaging data.\n",
        "\n",
        "### Set up and load data"
      ]
    },
    {
      "cell_type": "code",
      "metadata": {},
      "source": [
        "# Install abct and download abct_utils.py\n",
        "base = \"https://github.com/mikarubi/abct/raw/refs/heads/main\"\n",
        "!wget --no-clobber {base}/docs-code/examples/abct_utils.py\n",
        "%pip install --quiet abct nilearn\n",
        "\n",
        "# Import modules\n",
        "import abct\n",
        "import numpy as np\n",
        "from abct_utils import W, Distance, ordw, not_eye, fig_scatter, fig_imshow"
      ],
      "execution_count": null,
      "outputs": []
    },
    {
      "cell_type": "markdown",
      "metadata": {},
      "source": [
        "### Visualize structural networks\n",
        "\n",
        "We begin by visualizing the structural network in our data."
      ]
    },
    {
      "cell_type": "code",
      "metadata": {},
      "source": [
        "fig_imshow(W[np.ix_(ordw, ordw)], \n",
        "            \"Structural network\", \"inferno\",\n",
        "            pmin=-0, pmax=-0.01).show()"
      ],
      "execution_count": null,
      "outputs": []
    },
    {
      "cell_type": "markdown",
      "metadata": {},
      "source": [
        "### Compute proximity networks\n",
        "\n",
        " We now compute and visualize proximity networks and show that these networks accurately approximate structural networks. Here, we define proximity as distance<sup>(-α)</sup> and simply set α = 1. In practice, we usually fit α to the data, although this has no qualitative effect on our results."
      ]
    },
    {
      "cell_type": "code",
      "metadata": {},
      "source": [
        "# Get proximity networks\n",
        "with np.errstate(divide=\"ignore\"):\n",
        "    Phi = Distance**(-1)\n",
        "    np.fill_diagonal(Phi, 0)\n",
        "\n",
        "fig_imshow(Phi[np.ix_(ordw, ordw)],\n",
        "            \"Proximity network\", \"inferno\",\n",
        "            pmin=-0, pmax=-0.01).show()\n",
        "\n",
        "r = np.corrcoef(W[not_eye], Phi[not_eye])[0, 1]\n",
        "fig = fig_scatter(W[not_eye], Phi[not_eye],\n",
        "                  \"Network weights of structural network\",\n",
        "                  \"Network weights of proximity network\",\n",
        "                 f\"Structural network (r = {r:.3f})\").show()"
      ],
      "execution_count": null,
      "outputs": []
    },
    {
      "cell_type": "markdown",
      "metadata": {},
      "source": [
        "### Scatter plots of connectivity and proximity networks\n",
        "\n",
        "We now sparsify proximity matrices by weakening the contribution of their first several components. This weakening is formally known as shrinkage, and is commonly used to clean covariance or correlation matrices. In our analyses, we find that shrunken proximity networks approximate structural networks with considerably higher accuracy."
      ]
    },
    {
      "cell_type": "code",
      "metadata": {},
      "source": [
        "Phi_s = abct.shrinkage(Phi)\n",
        "r = np.corrcoef(W[not_eye], Phi_s[not_eye])[0, 1]\n",
        "\n",
        "fig_imshow(Phi_s[np.ix_(ordw, ordw)],\n",
        "            \"Shrunken proximity network\", \"inferno\",\n",
        "            pmin=-0, pmax=-0.01).show()\n",
        "\n",
        "r = np.corrcoef(W[not_eye], Phi_s[not_eye])[0, 1]\n",
        "fig_scatter(W[not_eye], Phi_s[not_eye],\n",
        "                  \"Network weights of structural network\",\n",
        "                  \"Network weights of shrunken proximity network\",\n",
        "                 f\"Structural network (r = {r:.3f})\").show()"
      ],
      "execution_count": null,
      "outputs": []
    }
  ],
  "metadata": {
    "kernelspec": {
      "display_name": "Python 3",
      "language": "python",
      "name": "python3"
    }
  },
  "nbformat": 4,
  "nbformat_minor": 4
}