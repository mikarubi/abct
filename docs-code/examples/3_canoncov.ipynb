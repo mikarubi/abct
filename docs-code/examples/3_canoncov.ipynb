{
  "cells": [
    {
      "cell_type": "markdown",
      "metadata": {},
      "source": [
        "## Canonical Components\n",
        "\n",
        "[Open in Colab](https://colab.research.google.com/github/mikarubi/abct/blob/main/docs-code/examples/3_canoncov.ipynb){.btn .btn-dark .btn-sm}\n",
        "\n",
        "Canonical covariance analysis (aka partial least squares correlation) finds linear relationships between pairs of datasets that have the same number of data points but usually have different numbers of features. It specifically finds _k_ pairs of coefficient vectors that transform the original data points into _k_ pairs of components, in a way that maximizes the total covariance over all pairs of components.\n",
        "\n",
        "This method is popular across diverse scientific fields, but its application to data with many features can often lead to unstable estimates of coefficients. This problem can be ameliorated, to some extent, through the adoption of sparse variants of these methods.\n",
        "\n",
        "Here, we extend the Loyvain method to do sparse binary canonical covariance analysis. We illustrate this method for finding the cross-correlation structure of structural and correlation networks from our example brain-imaging data.\n",
        "\n",
        "### Set up and load data"
      ]
    },
    {
      "cell_type": "code",
      "metadata": {},
      "source": [
        "# Install abct and download abct_utils.py\n",
        "base = \"https://github.com/mikarubi/abct/raw/refs/heads/main\"\n",
        "!wget --no-clobber {base}/docs-code/examples/abct_utils.py\n",
        "%pip install --quiet abct nilearn\n",
        "\n",
        "# Import modules\n",
        "import abct\n",
        "import numpy as np\n",
        "from abct_utils import W, C, fig_scatter, fig_surf"
      ],
      "execution_count": null,
      "outputs": []
    },
    {
      "cell_type": "markdown",
      "metadata": {},
      "source": [
        "### Run canonical covariance analysis\n",
        "\n",
        "A common formulation of canonical covariance analysis centers on the detection of (principal) components of cross-covariance matrices. We build on this formulation to extend the Loyvain algorithm to do a binary variant of this analysis by independently clustering the rows and columns of cross-covariance matrices, or any other bipartite (two-part) networks, for that matter. This process simultaneously finds pairs of modules from both datasets and is equivalent to canonical covariance analysis with binary coefficients. "
      ]
    },
    {
      "cell_type": "code",
      "metadata": {},
      "source": [
        "# Number of canonical components\n",
        "k = 5\n",
        "\n",
        "# Weighted canonical covariance analysis (with degree correction by default)\n",
        "np.random.seed(1)\n",
        "A_wei, B_wei, U_wei, V_wei, R_wei = abct.canoncov(W, C, k, \"weighted\")\n",
        "\n",
        "# Reverse the signs of the coefficients\n",
        "# (signs of canonical coefficients are arbitrary)\n",
        "A_wei = - A_wei\n",
        "B_wei = - B_wei\n",
        "U_wei = - U_wei\n",
        "V_wei = - V_wei\n",
        "\n",
        "# Binary canonical covariance analysis (with degree correction by default)\n",
        "A_bin, B_bin, U_bin, V_bin, R_bin = abct.canoncov(W, C, k, \"binary\")"
      ],
      "execution_count": null,
      "outputs": []
    },
    {
      "cell_type": "markdown",
      "metadata": {},
      "source": [
        "### Show maps of weighted and binary canonical coefficients and components\n",
        "\n",
        "We now visualize maps of the weighted and binary canonical coefficients and components. These results show that binary coefficients can be sparse and more interpretable than their weighted counterparts. Moreover, binary coefficients lead to a particularly simple definition of canonical components, as sums of data points over the non-zero features."
      ]
    },
    {
      "cell_type": "code",
      "metadata": {},
      "source": [
        "ccas = {\"Weighted structural canonical coefficient\": (A_wei[:, 0], \"inferno\"),\n",
        "        \"Weighted structural canonical component\": (U_wei[:, 0], \"inferno\"),\n",
        "        \"Weighted functional canonical coefficient\": (B_wei[:, 0], \"viridis\"),\n",
        "        \"Weighted functional canonical component\": (V_wei[:, 0], \"viridis\"),\n",
        "        \"Binary structural canonical coefficient\": (A_bin[:, 0], \"inferno\"),\n",
        "        \"Binary structural canonical component\": (U_bin[:, 0], \"inferno\"),\n",
        "        \"Binary functional canonical coefficient\": (B_bin[:, 0], \"viridis\"),\n",
        "        \"Binary functional canonical component\": (V_bin[:, 0], \"viridis\")}\n",
        "\n",
        "for i, (name, vals_cmap) in enumerate(ccas.items()):\n",
        "    vals, cmap = vals_cmap\n",
        "    fig_surf(vals, name, cmap)"
      ],
      "execution_count": null,
      "outputs": []
    },
    {
      "cell_type": "markdown",
      "metadata": {},
      "source": [
        "### Visualize scatters of canonical covariances\n",
        "\n",
        "We now visualize the normalized covariances between the first five canonical components from the weighted and binary canonical covariance analyses. Note that the values of these covariances are not directly comparable due to different normalizations of the weighted and binary analyses."
      ]
    },
    {
      "cell_type": "code",
      "metadata": {},
      "source": [
        "fig_scatter(np.arange(k), R_wei, \n",
        "            \"Canonical components\", \n",
        "            \"Canonical covariances\", \n",
        "            \"Weighted canonical covariance analysis\").show()\n",
        "\n",
        "fig_scatter(np.arange(k), R_bin, \n",
        "            \"Canonical components\", \n",
        "            \"Canonical covariances\", \n",
        "            \"Binary canonical covariance analysis\").show()"
      ],
      "execution_count": null,
      "outputs": []
    },
    {
      "cell_type": "markdown",
      "metadata": {},
      "source": [
        "### Visualize scatters of canonical components\n",
        "\n",
        "Finally, we directly show the relationship between the first weighted and binary canonical components. These results show generally high correlations between these components. We note, however, that these high correlations are not necessarily guaranteed because binary constraints can, in principle, result in considerably different components."
      ]
    },
    {
      "cell_type": "code",
      "metadata": {},
      "source": [
        "# Scatter plot of structural canonical components\n",
        "rs = np.corrcoef(U_wei[:, 0], U_bin[:, 0])[0, 1]\n",
        "fig_scatter(U_wei[:, 0], U_bin[:, 0],\n",
        "            \"Weighted canonical components\",\n",
        "            \"Binary canonical components\",\n",
        "           f\"Structural canon. comp. (r = {rs:.3f})\").show()\n",
        "\n",
        "rf = np.corrcoef(V_wei[:, 0], V_bin[:, 0])[0, 1]\n",
        "fig_scatter(V_wei[:, 0], V_bin[:, 0],\n",
        "            \"Weighted canonical components\",\n",
        "            \"Binary canonical components\",\n",
        "           f\"Correlation canon. comp. (r = {rf:.3f})\").show()"
      ],
      "execution_count": null,
      "outputs": []
    }
  ],
  "metadata": {
    "kernelspec": {
      "display_name": "Python 3",
      "language": "python",
      "name": "python3"
    }
  },
  "nbformat": 4,
  "nbformat_minor": 4
}