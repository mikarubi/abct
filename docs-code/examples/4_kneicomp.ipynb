{
  "cells": [
    {
      "cell_type": "markdown",
      "metadata": {},
      "source": [
        "## Co-neighbor Components and Residual Degree\n",
        "\n",
        "[Open in Colab](https://colab.research.google.com/github/mikarubi/abct/blob/main/docs-code/examples/4_kneicomp.ipynb){.btn .btn-dark .btn-sm}\n",
        "\n",
        "Diffusion-map embedding is a versatile method for nonlinear dimensionality reduction. One variant of this method has transformed analyses in much of imaging neuroscience by robustly detecting co-activity (functional) gradients, low-dimensional representations of correlation networks that capture important properties of functional organization.\n",
        "\n",
        "Here, we show an approximate equivalence between the components of co-neighbor networks --- a simple class of integer networks --- and this variant of diffusion-map embedding in our example brain-imaging data.\n",
        "\n",
        "### Set up and load data"
      ]
    },
    {
      "cell_type": "code",
      "metadata": {},
      "source": [
        "# Install abct and download abct_utils.py\n",
        "base = \"https://github.com/mikarubi/abct/raw/refs/heads/main\"\n",
        "!wget --no-clobber {base}/docs-code/examples/abct_utils.py\n",
        "%pip install --quiet abct nilearn\n",
        "\n",
        "# Import modules\n",
        "import abct\n",
        "import numpy as np\n",
        "from abct_utils import W, C, ordc, fig_scatter, fig_surf, fig_imshow"
      ],
      "execution_count": null,
      "outputs": []
    },
    {
      "cell_type": "markdown",
      "metadata": {},
      "source": [
        "### Visualize co-neighbor networks\n",
        "\n",
        "Co-neighbor networks, as their name suggests, encode the number of shared 𝜅-nearest, or strongest correlated, neighbors between pairs of nodes. We first visualize the structure of co-neighbor correlation networks in our data."
      ]
    },
    {
      "cell_type": "code",
      "metadata": {},
      "source": [
        "# Define and visualize co-neighbor networks\n",
        "# (kappa = 0.1 is equivalent to the top 10% nearest neighbors)\n",
        "Cn = abct.kneighbor(C, \"common\", 0.1).toarray()\n",
        "\n",
        "fig_imshow(Cn[np.ix_(ordc, ordc)],\n",
        "           \"Correlation co-neighbor network\",\n",
        "           \"viridis\").show()"
      ],
      "execution_count": null,
      "outputs": []
    },
    {
      "cell_type": "markdown",
      "metadata": {},
      "source": [
        "### Get co-activity gradients\n",
        "\n",
        "Next, we compute the components of co-neighbor networks."
      ]
    },
    {
      "cell_type": "code",
      "metadata": {},
      "source": [
        "np.random.seed(1)\n",
        "\n",
        "# Define co-activity gradient parameters (see kneighbor)\n",
        "k = 5\n",
        "kwargs = {\"type\":\"common\", \"kappa\":0.1, \"similarity\":\"network\"}\n",
        "\n",
        "# Weighted co-activity gradients\n",
        "V_wei = abct.kneicomp(C, k, \"weighted\", **kwargs)\n",
        "V_wei = V_wei[:, [0, 1, 3]] # match components to standard order\n",
        "\n",
        "# Binary co-activity gradients\n",
        "V_bin = abct.kneicomp(C, k, \"binary\", **kwargs)\n",
        "V_bin = V_bin[:, [1, 2, 3]] # match components to standard order\n",
        "\n",
        "# Flip sign of weighted gradients to match binary gradients\n",
        "V_wei *= np.sign(np.sum(V_wei * V_bin, 0))"
      ],
      "execution_count": null,
      "outputs": []
    },
    {
      "cell_type": "markdown",
      "metadata": {},
      "source": [
        "### Show maps of weighted and binary co-activity components\n",
        "\n",
        "We now show the maps of three weighted and binary co-activity components. These maps closely resemble the maps of co-activity gradients estimated with diffusion-map embedding."
      ]
    },
    {
      "cell_type": "code",
      "metadata": {},
      "source": [
        "comps = {\"Weighted co-activity gradient\": (V_wei, \"viridis\"),\n",
        "        \"Binary co-activity gradient\": (V_bin, \"viridis\")}\n",
        "\n",
        "for i, (name, Vals_cmap) in enumerate(comps.items()):\n",
        "    Vals, cmap = Vals_cmap\n",
        "    for j in range(Vals.shape[1]):\n",
        "        fig_surf(Vals[:, j], f\"{name} {j+1}\", cmap)"
      ],
      "execution_count": null,
      "outputs": []
    },
    {
      "cell_type": "markdown",
      "metadata": {},
      "source": [
        "### Show map and scatter of residual degree\n",
        "\n",
        "The primary co-activity gradient plays an especially important role in imaging neuroscience because it represents a transition between primary and association cortical areas. We conclude by showing a particular simple approximation of this component, as the degree of the residual network after first-component removal, or global signal regression."
      ]
    },
    {
      "cell_type": "code",
      "metadata": {},
      "source": [
        "# Residual degree\n",
        "D_wei = abct.degree(C, \"residual\")\n",
        "\n",
        "# Map of residual degree\n",
        "fig_surf(D_wei, \"Residual degree\", \"viridis\")\n",
        "\n",
        "# Scatter of residual degree and weighted co-activity gradient\n",
        "r = np.corrcoef(D_wei, V_wei[:, 0])[0, 1]\n",
        "fig = fig_scatter(D_wei, V_wei[:, 0], \n",
        "                 \"Residual degree\", \n",
        "                 \"Weighted co-activity gradient\", \n",
        "                f\"Correlation network (r = {r:.3f})\").show()"
      ],
      "execution_count": null,
      "outputs": []
    }
  ],
  "metadata": {
    "kernelspec": {
      "display_name": "Python 3",
      "language": "python",
      "name": "python3"
    }
  },
  "nbformat": 4,
  "nbformat_minor": 4
}